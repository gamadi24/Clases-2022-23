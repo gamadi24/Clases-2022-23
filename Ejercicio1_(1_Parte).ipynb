{
  "cells": [
    {
      "cell_type": "markdown",
      "metadata": {
        "id": "view-in-github",
        "colab_type": "text"
      },
      "source": [
        "<a href=\"https://colab.research.google.com/github/gamadi24/Clases-2022-23/blob/Python/Ejercicio1_(1_Parte).ipynb\" target=\"_parent\"><img src=\"https://colab.research.google.com/assets/colab-badge.svg\" alt=\"Open In Colab\"/></a>"
      ]
    },
    {
      "cell_type": "markdown",
      "metadata": {
        "id": "ujjN8YHWRNto"
      },
      "source": [
        "# Primera Clase"
      ]
    },
    {
      "cell_type": "code",
      "execution_count": 1,
      "metadata": {
        "id": "EyqohQWFRNts",
        "outputId": "2348c34d-5b9b-427b-e569-0637c0ef361c",
        "colab": {
          "base_uri": "https://localhost:8080/"
        }
      },
      "outputs": [
        {
          "output_type": "stream",
          "name": "stdout",
          "text": [
            "Hola Mundo\n"
          ]
        }
      ],
      "source": [
        "print (\"Hola Mundo\")"
      ]
    },
    {
      "cell_type": "code",
      "execution_count": null,
      "metadata": {
        "id": "mNDQsFzRRNtt",
        "outputId": "a88b130e-adad-4499-f83e-8ede3cee7e7b"
      },
      "outputs": [
        {
          "name": "stdout",
          "output_type": "stream",
          "text": [
            "Enero, Febrero, Marzo,..., Diciembre\n"
          ]
        }
      ],
      "source": [
        "print (\"Enero, Febrero, Marzo,..., Diciembre\")"
      ]
    },
    {
      "cell_type": "code",
      "execution_count": null,
      "metadata": {
        "id": "yC7oAXVpRNtt",
        "outputId": "8a4a15e8-5d52-4ae7-e504-6409ad0f7871"
      },
      "outputs": [
        {
          "name": "stdout",
          "output_type": "stream",
          "text": [
            "5\n"
          ]
        }
      ],
      "source": [
        "# Si solo pudiésemos hacer operaciones con literales, estaríamos bastante limitados. \n",
        "# Para conseguir que Python haga por nosotros tareas más complejas necesitamos usar \n",
        "# las llamadas variables.\n",
        "\n",
        "variable = 5\n",
        "print (variable)"
      ]
    },
    {
      "cell_type": "code",
      "execution_count": null,
      "metadata": {
        "id": "EiM6O0s0RNtu",
        "outputId": "3001b72c-7a11-4db9-c169-deb16d4dc9db"
      },
      "outputs": [
        {
          "name": "stdout",
          "output_type": "stream",
          "text": [
            "5\n"
          ]
        }
      ],
      "source": [
        "# En Python no es necesario declarar las variables explícitamente antes de usarlas, \n",
        "# y adoptan el tipo cuando se les asigna valor.\n",
        "\n",
        "variable = 5\n",
        "print (variable)\n",
        "\n",
        "# Esto imprimirá 5"
      ]
    },
    {
      "cell_type": "code",
      "execution_count": null,
      "metadata": {
        "id": "gBXv9KyTRNtu",
        "outputId": "56db818d-155b-4333-a05b-e68239ffdb6b"
      },
      "outputs": [
        {
          "name": "stdout",
          "output_type": "stream",
          "text": [
            "1\n",
            "dos\n",
            "3.0\n"
          ]
        }
      ],
      "source": [
        "# Python es un lenguaje de tipado dinámico, al asignar un valor a una variable \n",
        "# decidimos implícitamente el tipo de dato.\n",
        "\n",
        "primera_variable, segunda_variable, tercera_variable = 1, \"dos\", 3.0\n",
        "print (primera_variable)\n",
        "print (segunda_variable)\n",
        "print (tercera_variable)"
      ]
    },
    {
      "cell_type": "code",
      "execution_count": null,
      "metadata": {
        "id": "p2ooyUHCRNtu",
        "outputId": "35e35cad-a641-4ada-8cbe-feb1b75ad6fa"
      },
      "outputs": [
        {
          "name": "stdout",
          "output_type": "stream",
          "text": [
            "12\n"
          ]
        }
      ],
      "source": [
        "numero = 5\n",
        "resultado = numero + 7\n",
        "print (resultado)"
      ]
    },
    {
      "cell_type": "code",
      "execution_count": null,
      "metadata": {
        "id": "KNjg2ew9RNtv",
        "outputId": "d2287ba6-4c0e-4bad-e20c-50853f46e8a9"
      },
      "outputs": [
        {
          "name": "stdout",
          "output_type": "stream",
          "text": [
            "13\n",
            "Hola Mundo\n"
          ]
        }
      ],
      "source": [
        "primer_numero = 5\n",
        "segundo_numero = 8\n",
        "suma = primer_numero + segundo_numero\n",
        "print (suma)\n",
        "\n",
        "primera_cadena = \"Hola\"\n",
        "segunda_cadena = \" Mundo\"\n",
        "union = primera_cadena + segunda_cadena\n",
        "\n",
        "print (union)"
      ]
    },
    {
      "cell_type": "code",
      "execution_count": null,
      "metadata": {
        "id": "y8Sbs3TcRNtv",
        "outputId": "5632c6c7-4e7f-45f4-e31c-93d808942663"
      },
      "outputs": [
        {
          "name": "stdout",
          "output_type": "stream",
          "text": [
            "5Hola\n"
          ]
        }
      ],
      "source": [
        "# Python es un lenguaje “fuertemente tipado” de forma que no permite mezclar tipos de datos libremente.\n",
        "\n",
        "numero = str(5)\n",
        "cadena = \"Hola\"\n",
        "\n",
        "union = numero + cadena\n",
        "print (union)\n",
        "\n",
        "## Ver tipos de datos (23)##"
      ]
    },
    {
      "cell_type": "code",
      "execution_count": null,
      "metadata": {
        "id": "PvE0ORN3RNtw",
        "outputId": "904e0460-4526-427b-8a3e-2d404a682679"
      },
      "outputs": [
        {
          "name": "stdout",
          "output_type": "stream",
          "text": [
            "<class 'str'>\n",
            "<class 'float'>\n",
            "<class 'int'>\n",
            "<class 'int'>\n"
          ]
        }
      ],
      "source": [
        "texto = \"10\"\n",
        "decimal = 21.15\n",
        "un_entero = int (texto)\n",
        "print (type(texto))\n",
        "print (type(decimal))\n",
        "print (type(un_entero))\n",
        "print (type(int(decimal)))"
      ]
    },
    {
      "cell_type": "markdown",
      "metadata": {
        "id": "LI-tMTL6RNtw"
      },
      "source": [
        "Existen también funciones de conversión de datos... revisad las que existen en Python."
      ]
    },
    {
      "cell_type": "code",
      "execution_count": null,
      "metadata": {
        "id": "FGUkCwvwRNtx",
        "outputId": "36835170-8c70-4285-b2bd-c9ae13828c4e"
      },
      "outputs": [
        {
          "data": {
            "text/plain": [
              "2"
            ]
          },
          "execution_count": 11,
          "metadata": {},
          "output_type": "execute_result"
        }
      ],
      "source": [
        "int(2.7)"
      ]
    },
    {
      "cell_type": "code",
      "execution_count": null,
      "metadata": {
        "id": "OBh5pDLoRNtx",
        "outputId": "9d36fe28-05fa-4c51-aeaf-d6970c9443d8"
      },
      "outputs": [
        {
          "data": {
            "text/plain": [
              "2.0"
            ]
          },
          "execution_count": 12,
          "metadata": {},
          "output_type": "execute_result"
        }
      ],
      "source": [
        "float(2)"
      ]
    },
    {
      "cell_type": "code",
      "execution_count": null,
      "metadata": {
        "id": "g0uQ9RyrRNtx",
        "outputId": "2b02a1b7-7288-4117-86fd-3f472f8922a0"
      },
      "outputs": [
        {
          "data": {
            "text/plain": [
              "3"
            ]
          },
          "execution_count": 13,
          "metadata": {},
          "output_type": "execute_result"
        }
      ],
      "source": [
        "round(2.7)"
      ]
    },
    {
      "cell_type": "code",
      "execution_count": null,
      "metadata": {
        "id": "8NfenPBsRNtx",
        "outputId": "8d44f136-cec2-4367-dd85-6a7945520003"
      },
      "outputs": [
        {
          "data": {
            "text/plain": [
              "'2'"
            ]
          },
          "execution_count": 14,
          "metadata": {},
          "output_type": "execute_result"
        }
      ],
      "source": [
        "str(2)"
      ]
    },
    {
      "cell_type": "code",
      "execution_count": null,
      "metadata": {
        "id": "UsQSYFdbRNtx",
        "outputId": "8284e5fe-e55d-4696-b04d-5d157fb97ed9"
      },
      "outputs": [
        {
          "name": "stdout",
          "output_type": "stream",
          "text": [
            "0x1f4\n",
            "0o764\n"
          ]
        }
      ],
      "source": [
        "entero = 500\n",
        "hexadecimal = hex(entero)\n",
        "print(hexadecimal)\n",
        "\n",
        "octal = oct(entero)\n",
        "print(octal)"
      ]
    },
    {
      "cell_type": "code",
      "execution_count": null,
      "metadata": {
        "id": "-GTAPFqDRNty",
        "outputId": "9d554136-7856-4d84-eb91-4767beff50f8"
      },
      "outputs": [
        {
          "name": "stdout",
          "output_type": "stream",
          "text": [
            "10\n",
            "3\n",
            "13\n",
            "7\n",
            "30\n",
            "3.3333333333333335\n",
            "1000\n",
            "1\n",
            "3\n"
          ]
        }
      ],
      "source": [
        "# Los operadores matemáticos se aplican a valores numéricos, consignan las operaciones matemáticas\n",
        "# básicas...\n",
        "\n",
        "primer_numero = 10\n",
        "segundo_numero = 3\n",
        "suma = primer_numero + segundo_numero\n",
        "resta = primer_numero - segundo_numero\n",
        "multiplicacion = primer_numero * segundo_numero\n",
        "division = primer_numero / segundo_numero\n",
        "potencia = primer_numero ** segundo_numero\n",
        "modulo = primer_numero % segundo_numero\n",
        "division_entera = primer_numero // segundo_numero\n",
        "\n",
        "print (primer_numero)\n",
        "print (segundo_numero)\n",
        "print(suma)\n",
        "print(resta)\n",
        "print(multiplicacion)\n",
        "print(division)\n",
        "print(potencia)\n",
        "print(modulo)\n",
        "print(division_entera)"
      ]
    },
    {
      "cell_type": "raw",
      "metadata": {
        "id": "j_Sq-dajRNty"
      },
      "source": [
        "Revisad los operadores de asignación:\n",
        "+= (suma con asignación)\n",
        "-= (resta con asignación)\n",
        "*= (multiplicación con asignación)\n",
        "/= (división con asignación)\n",
        "**= (exponente con asignación)\n",
        "//= (división entera con asignación)\n",
        "%= (módulo con asignación)\n",
        "\n",
        "Los operadores de comparación sirven para comparar números, cadenas, objetos y, en general, cualquier cosa en Python.\n",
        "\n",
        "== (igualdad)\n",
        "!= (desigualdad)\n",
        "<> (desigualdad)\n",
        "> (mayor que)\n",
        "< (menor que)\n",
        ">= (mayor o igual que)\n",
        "<= (menor o igual que)\n",
        "\n",
        "Los operadores booleanos sirven para realizar operaciones con valores lógicos (AND, OR, NOT)"
      ]
    },
    {
      "cell_type": "code",
      "execution_count": null,
      "metadata": {
        "id": "x3e4t6ZnRNty",
        "outputId": "c19af3b3-d68b-42ff-f060-1e0eb980f2f4"
      },
      "outputs": [
        {
          "name": "stdout",
          "output_type": "stream",
          "text": [
            "False\n",
            "True\n",
            "True\n",
            "False\n",
            "True\n"
          ]
        }
      ],
      "source": [
        "numero = 7\n",
        "texto = \"Hola Mundo\"\n",
        "print (3 == 2)\n",
        "print (3 > 2)\n",
        "print (texto == \"Hola Mundo\")\n",
        "print (texto == \"Hola mundo\")\n",
        "print (7 >= 6)"
      ]
    },
    {
      "cell_type": "code",
      "execution_count": null,
      "metadata": {
        "id": "580pgIluRNty",
        "outputId": "1fd438da-c86b-4f6b-e8ec-1cc9d2f4f897"
      },
      "outputs": [
        {
          "name": "stdout",
          "output_type": "stream",
          "text": [
            "Hola Mundo\n",
            "CoCoCoCo\n"
          ]
        }
      ],
      "source": [
        "saludo = \"Hola\"\n",
        "saludo += \" Mundo\"\n",
        "print (saludo)\n",
        "\n",
        "gallina =\"Co\"\n",
        "gallina = 4 * gallina\n",
        "print (gallina)"
      ]
    },
    {
      "cell_type": "code",
      "execution_count": null,
      "metadata": {
        "id": "AJtw4FlORNty",
        "outputId": "481eb26f-25bf-465b-b116-04201aba9469"
      },
      "outputs": [
        {
          "name": "stdout",
          "output_type": "stream",
          "text": [
            "False\n"
          ]
        }
      ],
      "source": [
        "# Un caso especial son los operadores de identidad, is y is not. \n",
        "# Ambos sirven para comparar elementos. El operador is devuelve True si ambos elementos comparados \n",
        "# son el mismo objeto (poseen el mismo id), y False en caso contrario. \n",
        "# El operador is not hace lo opuesto.\n",
        "\n",
        "variable1 = 6\n",
        "variable2 = 6.0\n",
        "\n",
        "print (variable1 is variable2)"
      ]
    },
    {
      "cell_type": "code",
      "execution_count": null,
      "metadata": {
        "id": "TC5dxOJYRNtz"
      },
      "outputs": [],
      "source": [
        "# El operador in retorna un valor True si el elemento indicado a la izquierda del operador \n",
        "# está en la secuencia indicada a la derecha del operador. \n",
        "# El operador not in hace lo contrario, y da True si el elemento no está en la secuencia y \n",
        "# False si lo está."
      ]
    },
    {
      "cell_type": "code",
      "execution_count": null,
      "metadata": {
        "id": "UZqwxnhURNtz",
        "outputId": "abb02ff1-613a-4d30-e29b-8e854084c94e"
      },
      "outputs": [
        {
          "name": "stdout",
          "output_type": "stream",
          "text": [
            "True\n"
          ]
        }
      ],
      "source": [
        "# Una lista (array) es una variable que, en lugar de contener un valor, \n",
        "# contiene una secuencia ordenada de estos.\n",
        "\n",
        "Lista = [\"silla\", \"mesa\", \"armario\", \"reloj\"]\n",
        "print (\"silla\" in Lista)\n",
        "\n",
        "## IMPORTANTE: evaluación de operaciones orden (39) "
      ]
    },
    {
      "cell_type": "code",
      "execution_count": null,
      "metadata": {
        "id": "c8S8B1aSRNtz",
        "outputId": "d373df63-1e94-482c-fdae-b37db23c684e"
      },
      "outputs": [
        {
          "name": "stdout",
          "output_type": "stream",
          "text": [
            "False\n"
          ]
        }
      ],
      "source": [
        "print (\"ropero\" in Lista)"
      ]
    },
    {
      "cell_type": "code",
      "execution_count": null,
      "metadata": {
        "id": "cz-lNKipRNtz",
        "outputId": "c45d91db-54c2-4fb3-8686-db0c9ce0e44a"
      },
      "outputs": [
        {
          "name": "stdout",
          "output_type": "stream",
          "text": [
            "['silla', 'mesa', 'armario', 'reloj']\n"
          ]
        }
      ],
      "source": [
        "print (Lista)"
      ]
    },
    {
      "cell_type": "code",
      "execution_count": null,
      "metadata": {
        "id": "qC_K7GhLRNtz",
        "outputId": "0fbdbba3-a8f4-4917-c2f8-45d37b5ba032"
      },
      "outputs": [
        {
          "name": "stdout",
          "output_type": "stream",
          "text": [
            "['uno', 'dos', 'tres', 'cuatro']\n"
          ]
        }
      ],
      "source": [
        "# Para acceder a un elemento de la lista (r/w), \n",
        "# es necesario indicar la posición (se empieza a contar desde 0).\n",
        "\n",
        "lista = []\n",
        "lista = list((\"uno\", \"dos\", \"tres\", \"cuatro\"))\n",
        "print (lista)"
      ]
    },
    {
      "cell_type": "code",
      "execution_count": null,
      "metadata": {
        "id": "_5NYqkT8RNt0",
        "outputId": "80962bb4-0c0e-4bd0-98c1-7fe45b7ec2e0"
      },
      "outputs": [
        {
          "name": "stdout",
          "output_type": "stream",
          "text": [
            "tres\n"
          ]
        }
      ],
      "source": [
        "print (lista[2])"
      ]
    },
    {
      "cell_type": "code",
      "execution_count": null,
      "metadata": {
        "id": "b56cczerRNt0"
      },
      "outputs": [],
      "source": [
        "lista[2] = \"Nuevo Número\""
      ]
    },
    {
      "cell_type": "code",
      "execution_count": null,
      "metadata": {
        "id": "QVktAw-KRNt0",
        "outputId": "7e67af85-db9e-48b4-9801-dc699a67078a"
      },
      "outputs": [
        {
          "name": "stdout",
          "output_type": "stream",
          "text": [
            "Nuevo Número\n"
          ]
        }
      ],
      "source": [
        "print (lista[2])"
      ]
    },
    {
      "cell_type": "code",
      "execution_count": null,
      "metadata": {
        "id": "vagjStX0RNt0",
        "outputId": "d965b8ca-cd60-4496-9759-69d546c33432"
      },
      "outputs": [
        {
          "name": "stdout",
          "output_type": "stream",
          "text": [
            "['uno', 'dos', 'Nuevo Número', 'cuatro']\n"
          ]
        }
      ],
      "source": [
        "print(lista)"
      ]
    },
    {
      "cell_type": "code",
      "execution_count": null,
      "metadata": {
        "id": "jBM7E6EIRNt0",
        "outputId": "6084ba82-c76d-427c-92d2-eac92e9f7454"
      },
      "outputs": [
        {
          "name": "stdout",
          "output_type": "stream",
          "text": [
            "[[1, 2, 3], ['a', 'b', 'c']]\n"
          ]
        }
      ],
      "source": [
        "# Una lista puede contener datos de todo tipo, y dentro de una lista mezclar tipos de dato.\n",
        "\n",
        "lista = [[1, 2, 3], [\"a\", \"b\", \"c\"]]\n",
        "print (lista)"
      ]
    },
    {
      "cell_type": "code",
      "execution_count": null,
      "metadata": {
        "id": "kpSx_eSMRNt0",
        "outputId": "c99c534d-cb9a-4206-a798-a6e73f77a069"
      },
      "outputs": [
        {
          "name": "stdout",
          "output_type": "stream",
          "text": [
            "3\n"
          ]
        }
      ],
      "source": [
        "print (lista [0] [2])"
      ]
    },
    {
      "cell_type": "code",
      "execution_count": null,
      "metadata": {
        "id": "onBtdBUHRNt0",
        "outputId": "175dd8d1-c3a1-483e-8b17-b9af760e5ab2"
      },
      "outputs": [
        {
          "name": "stdout",
          "output_type": "stream",
          "text": [
            "b\n"
          ]
        }
      ],
      "source": [
        "print (lista [1] [1])"
      ]
    },
    {
      "cell_type": "code",
      "execution_count": null,
      "metadata": {
        "id": "AY92GzoWRNt0",
        "outputId": "497869f0-467b-4aed-dfc7-daaf0f089309"
      },
      "outputs": [
        {
          "name": "stdout",
          "output_type": "stream",
          "text": [
            "['uno', 'dos', 'tres', 'cuatro']\n"
          ]
        }
      ],
      "source": [
        "lista = []\n",
        "lista = list((\"uno\", \"dos\", \"tres\", \"cuatro\"))\n",
        "print (lista)"
      ]
    },
    {
      "cell_type": "code",
      "execution_count": null,
      "metadata": {
        "id": "1W0OtzdnRNt0",
        "outputId": "650ada62-c119-48b8-dd04-dfda5faf8029"
      },
      "outputs": [
        {
          "data": {
            "text/plain": [
              "['dos', 'tres', 'cuatro']"
            ]
          },
          "execution_count": 32,
          "metadata": {},
          "output_type": "execute_result"
        }
      ],
      "source": [
        "# También se puede acceder a un fragmento de la lista original usando el signo dos puntos (:).\n",
        "\n",
        "lista [1:4]"
      ]
    },
    {
      "cell_type": "code",
      "execution_count": null,
      "metadata": {
        "id": "V_5QVG_-RNt1"
      },
      "outputs": [],
      "source": [
        "lista = [1,2,3,4,5,6,7,8,9,10,11,12,13,14,15,16,17]"
      ]
    },
    {
      "cell_type": "code",
      "execution_count": null,
      "metadata": {
        "id": "eUqFTZehRNt1",
        "outputId": "22739370-5542-4424-9ce9-efef2d09b30e"
      },
      "outputs": [
        {
          "name": "stdout",
          "output_type": "stream",
          "text": [
            "[3, 4, 5, 6, 7, 8, 9, 10, 11, 12, 13, 14, 15]\n"
          ]
        }
      ],
      "source": [
        "print(lista[2:15])"
      ]
    },
    {
      "cell_type": "code",
      "execution_count": null,
      "metadata": {
        "id": "UnwBv0efRNt1",
        "outputId": "8d3eb6fd-4188-4282-fc3d-90634dd0c0a8"
      },
      "outputs": [
        {
          "name": "stdout",
          "output_type": "stream",
          "text": [
            "[1, 3, 5, 7, 9, 11, 13, 15]\n"
          ]
        }
      ],
      "source": [
        "# También se puede añadir un tercer número, separado por dos puntos (:), y devuelva uno de cada dos… \n",
        "\n",
        "print (lista[0:15:2])"
      ]
    },
    {
      "cell_type": "code",
      "execution_count": null,
      "metadata": {
        "id": "1Tzyk_bHRNt1"
      },
      "outputs": [],
      "source": [
        "# Una tupla es parecida a una lista con la salvedad que no puede modificarse. \n",
        "# Las tuplas son objetos inmutables.\n",
        "\n",
        "tupla = \"primero\", \"segundo\", \"tercero\", \"cuarto\", \"quinto\""
      ]
    },
    {
      "cell_type": "code",
      "execution_count": null,
      "metadata": {
        "id": "wjukDIepRNt1",
        "outputId": "03aa92b7-a39e-4bcf-e5eb-b31d9ad4479f"
      },
      "outputs": [
        {
          "name": "stdout",
          "output_type": "stream",
          "text": [
            "('primero', 'segundo', 'tercero', 'cuarto', 'quinto')\n"
          ]
        }
      ],
      "source": [
        "print (tupla)"
      ]
    },
    {
      "cell_type": "code",
      "execution_count": null,
      "metadata": {
        "id": "wHq_-cvrRNt1",
        "outputId": "97c60d14-caaf-4f1e-e10c-944d861baedd"
      },
      "outputs": [
        {
          "ename": "TypeError",
          "evalue": "'tuple' object does not support item assignment",
          "output_type": "error",
          "traceback": [
            "\u001b[1;31m---------------------------------------------------------------------------\u001b[0m",
            "\u001b[1;31mTypeError\u001b[0m                                 Traceback (most recent call last)",
            "\u001b[1;32m<ipython-input-38-ed8b3341b49f>\u001b[0m in \u001b[0;36m<module>\u001b[1;34m\u001b[0m\n\u001b[1;32m----> 1\u001b[1;33m \u001b[0mtupla\u001b[0m\u001b[1;33m[\u001b[0m\u001b[1;36m2\u001b[0m\u001b[1;33m]\u001b[0m \u001b[1;33m=\u001b[0m \u001b[1;34m\"Adios\"\u001b[0m\u001b[1;33m\u001b[0m\u001b[1;33m\u001b[0m\u001b[0m\n\u001b[0m",
            "\u001b[1;31mTypeError\u001b[0m: 'tuple' object does not support item assignment"
          ]
        }
      ],
      "source": [
        "tupla[2] = \"Adios\""
      ]
    },
    {
      "cell_type": "code",
      "execution_count": null,
      "metadata": {
        "id": "NMzcH4CWRNt1",
        "outputId": "a9138e61-1901-4a09-ca85-6ee774445921"
      },
      "outputs": [
        {
          "name": "stdout",
          "output_type": "stream",
          "text": [
            "tercero\n"
          ]
        }
      ],
      "source": [
        "print (tupla[2])"
      ]
    },
    {
      "cell_type": "code",
      "execution_count": null,
      "metadata": {
        "id": "Uu0RSXqTRNt1",
        "outputId": "ece8782a-ec8f-4d56-81e4-cbda6e332787"
      },
      "outputs": [
        {
          "name": "stdout",
          "output_type": "stream",
          "text": [
            "('segundo', 'tercero')\n"
          ]
        }
      ],
      "source": [
        "print (tupla[1:3])"
      ]
    },
    {
      "cell_type": "code",
      "execution_count": null,
      "metadata": {
        "id": "o5gppMw0RNt1"
      },
      "outputs": [],
      "source": [
        "# Las cadenas se pueden comportar como una lista de caracteres, se puede acceder \n",
        "# a los caracteres como elementos de una tupla.\n",
        "\n",
        "cadena = \"Hola Mundo\""
      ]
    },
    {
      "cell_type": "code",
      "execution_count": null,
      "metadata": {
        "id": "hVn-4un2RNt1",
        "outputId": "0f0d5308-ad20-4d82-be47-2cd1349ddd8e"
      },
      "outputs": [
        {
          "name": "stdout",
          "output_type": "stream",
          "text": [
            "o\n"
          ]
        }
      ],
      "source": [
        "print (cadena [1])"
      ]
    },
    {
      "cell_type": "code",
      "execution_count": null,
      "metadata": {
        "id": "Jg8RRVVsRNt2",
        "outputId": "d8dd1ac9-10ed-4c09-84a8-d14311f240eb"
      },
      "outputs": [
        {
          "name": "stdout",
          "output_type": "stream",
          "text": [
            "ola \n"
          ]
        }
      ],
      "source": [
        "print (cadena [1:5])"
      ]
    },
    {
      "cell_type": "code",
      "execution_count": null,
      "metadata": {
        "id": "LQftsWJvRNt2",
        "outputId": "2741cf2b-1e5f-45f2-e4d2-efc5ae0862ad"
      },
      "outputs": [
        {
          "name": "stdout",
          "output_type": "stream",
          "text": [
            "Hl ud\n"
          ]
        }
      ],
      "source": [
        "print (cadena [0:10:2])"
      ]
    },
    {
      "cell_type": "code",
      "execution_count": null,
      "metadata": {
        "id": "euw9uw9URNt2"
      },
      "outputs": [],
      "source": [
        "# Un diccionario es un conjunto de valores emparejados.\n",
        "\n",
        "diccionario = {\"animal\": \"gato\", \"cosa\": \"piedra\", \"planta\": \"lechuga\"}"
      ]
    },
    {
      "cell_type": "code",
      "execution_count": null,
      "metadata": {
        "id": "AttYOYBERNt2",
        "outputId": "169a706c-fb87-458e-c612-974f655430db"
      },
      "outputs": [
        {
          "name": "stdout",
          "output_type": "stream",
          "text": [
            "{'animal': 'gato', 'cosa': 'piedra', 'planta': 'lechuga'}\n"
          ]
        }
      ],
      "source": [
        "print (diccionario)"
      ]
    },
    {
      "cell_type": "code",
      "execution_count": null,
      "metadata": {
        "id": "u5HJwIUXRNt2",
        "outputId": "aac41655-cd31-422c-af84-f3e608c4b996"
      },
      "outputs": [
        {
          "name": "stdout",
          "output_type": "stream",
          "text": [
            "gato\n"
          ]
        }
      ],
      "source": [
        "print (diccionario [\"animal\"])"
      ]
    },
    {
      "cell_type": "code",
      "execution_count": null,
      "metadata": {
        "id": "-rVzKljNRNt2",
        "outputId": "3e15b6b6-ca81-4236-f9ec-33b85ca5f2ec"
      },
      "outputs": [
        {
          "name": "stdout",
          "output_type": "stream",
          "text": [
            "piedra\n"
          ]
        }
      ],
      "source": [
        "print (diccionario [\"cosa\"])"
      ]
    },
    {
      "cell_type": "code",
      "execution_count": null,
      "metadata": {
        "id": "VGAiMQj3RNt2",
        "outputId": "d2637e56-44a5-4268-d7d2-253e4ea719ea"
      },
      "outputs": [
        {
          "name": "stdout",
          "output_type": "stream",
          "text": [
            "lechuga\n"
          ]
        }
      ],
      "source": [
        "print (diccionario [\"planta\"])"
      ]
    },
    {
      "cell_type": "code",
      "execution_count": null,
      "metadata": {
        "id": "trRdp4nSRNt2"
      },
      "outputs": [],
      "source": [
        "diccionario [\"planta\"] = \"coliflor\""
      ]
    },
    {
      "cell_type": "code",
      "execution_count": null,
      "metadata": {
        "id": "F-a4ucTCRNt2",
        "outputId": "75b1d923-9678-4324-fe15-4f4f7adee901"
      },
      "outputs": [
        {
          "name": "stdout",
          "output_type": "stream",
          "text": [
            "coliflor\n"
          ]
        }
      ],
      "source": [
        "print (diccionario [\"planta\"])"
      ]
    },
    {
      "cell_type": "code",
      "execution_count": null,
      "metadata": {
        "id": "peeamrmURNt2"
      },
      "outputs": [],
      "source": [
        "cubiertos = {\"tenedor\", \"cuchara\", \"cuchillo\", \"cucharilla\"}"
      ]
    },
    {
      "cell_type": "code",
      "execution_count": null,
      "metadata": {
        "id": "eU4G3ha_RNt2"
      },
      "outputs": [],
      "source": [
        "# Un set es una colección ordenada de objetos, no posee índice y no puede contener objetos repetidos.\n",
        "\n",
        "vajilla = set ([\"plato\", \"taza\", \"copa\"])"
      ]
    },
    {
      "cell_type": "code",
      "execution_count": null,
      "metadata": {
        "id": "jX5UinnLRNt3",
        "outputId": "942a1133-e6cf-4196-9c64-b97dd9abd849"
      },
      "outputs": [
        {
          "name": "stdout",
          "output_type": "stream",
          "text": [
            "{'cuchara', 'tenedor', 'cuchillo', 'cucharilla'}\n"
          ]
        }
      ],
      "source": [
        "print (cubiertos)"
      ]
    },
    {
      "cell_type": "code",
      "execution_count": null,
      "metadata": {
        "id": "f8tr8qgLRNt3",
        "outputId": "1ab220d7-ff93-452a-f0d9-d29e912ba4c6"
      },
      "outputs": [
        {
          "name": "stdout",
          "output_type": "stream",
          "text": [
            "{'copa', 'taza', 'plato'}\n"
          ]
        }
      ],
      "source": [
        "print (vajilla)"
      ]
    },
    {
      "cell_type": "code",
      "execution_count": null,
      "metadata": {
        "id": "lzKSNLjWRNt3"
      },
      "outputs": [],
      "source": [
        "# En Python una variable es una referencia a un dato. \n",
        "# Cuando copiamos una variable creamos una etiqueta apuntando a ese dato.\n",
        "\n",
        "variable1 = \"Hola\""
      ]
    },
    {
      "cell_type": "code",
      "execution_count": null,
      "metadata": {
        "id": "FpGScRpGRNt3"
      },
      "outputs": [],
      "source": [
        "variable2 = variable1"
      ]
    },
    {
      "cell_type": "code",
      "execution_count": null,
      "metadata": {
        "id": "E9qz64GLRNt3"
      },
      "outputs": [],
      "source": [
        "variable3 = \"adios\""
      ]
    },
    {
      "cell_type": "code",
      "execution_count": null,
      "metadata": {
        "id": "eRiwbWiyRNt3",
        "outputId": "e6f794cb-6da2-41cb-828c-eff4002dfb37"
      },
      "outputs": [
        {
          "name": "stdout",
          "output_type": "stream",
          "text": [
            "1778086843952\n"
          ]
        }
      ],
      "source": [
        "print (id(variable1))"
      ]
    },
    {
      "cell_type": "code",
      "execution_count": null,
      "metadata": {
        "id": "ML9cTjKoRNt3",
        "outputId": "d955cac6-39bf-4677-c4e8-85fd88475035"
      },
      "outputs": [
        {
          "name": "stdout",
          "output_type": "stream",
          "text": [
            "1778086843952\n"
          ]
        }
      ],
      "source": [
        "print (id(variable2))"
      ]
    },
    {
      "cell_type": "code",
      "execution_count": null,
      "metadata": {
        "id": "sNpY48jtRNt3",
        "outputId": "787ffbef-adc5-4a67-bfc9-83b832272114"
      },
      "outputs": [
        {
          "name": "stdout",
          "output_type": "stream",
          "text": [
            "1778087702192\n"
          ]
        }
      ],
      "source": [
        "print (id(variable3))"
      ]
    },
    {
      "cell_type": "markdown",
      "metadata": {
        "id": "ZaOqplS4RNt3"
      },
      "source": [
        "# Estructuras de Control"
      ]
    },
    {
      "cell_type": "code",
      "execution_count": null,
      "metadata": {
        "id": "4N_CWBD9RNt3",
        "outputId": "c8c2eed3-23fc-4329-cb99-a2e7037ace8b"
      },
      "outputs": [
        {
          "name": "stdout",
          "output_type": "stream",
          "text": [
            "la variable es mayor que 5\n",
            "esto se muestra siempre.\n"
          ]
        }
      ],
      "source": [
        "# La estructura de control por excelencia es la sentencia IF.\n",
        "variable = 7\n",
        "if variable > 5:\n",
        "    print (\"la variable es mayor que 5\")\n",
        "print (\"esto se muestra siempre.\")"
      ]
    },
    {
      "cell_type": "code",
      "execution_count": null,
      "metadata": {
        "id": "LCX8ofYkRNt3",
        "outputId": "07177750-f85d-40c7-cbd1-bc5fbdeeef15"
      },
      "outputs": [
        {
          "name": "stdout",
          "output_type": "stream",
          "text": [
            "print la variable es menor que 3\n"
          ]
        }
      ],
      "source": [
        "variable = 2\n",
        "if variable > 3:\n",
        "    print (\"La variable es mayor que 3\")\n",
        "else:\n",
        "    print (\"print la variable es menor que 3\") "
      ]
    },
    {
      "cell_type": "code",
      "execution_count": null,
      "metadata": {
        "id": "CNBI52WLRNt3",
        "outputId": "6e75fad6-e5a5-49cd-8361-d194729d48f0"
      },
      "outputs": [
        {
          "name": "stdout",
          "output_type": "stream",
          "text": [
            "La variable es menor que 3.\n"
          ]
        }
      ],
      "source": [
        "variable = 2\n",
        "if variable > 3:\n",
        "    print (\"La variable es mayor que 3.\")\n",
        "    print (\"No está mal\")\n",
        "elif variable < 3:\n",
        "    print (\"La variable es menor que 3.\")\n",
        "else: \n",
        "    print (\"La variable es 3.\")"
      ]
    },
    {
      "cell_type": "code",
      "execution_count": null,
      "metadata": {
        "id": "-vvpWMoNRNt4",
        "outputId": "8f0f4b3e-9c77-465e-eca8-0ade6683ef7a"
      },
      "outputs": [
        {
          "name": "stdout",
          "output_type": "stream",
          "text": [
            "1\n",
            "2\n",
            "3\n",
            "4\n",
            "5\n",
            "6\n",
            "7\n",
            "8\n",
            "9\n",
            "10\n"
          ]
        }
      ],
      "source": [
        "# La instrucción WHILE crea un bucle que se ejecutará mientras su condición sea cierta.\n",
        "\n",
        "a = 0\n",
        "\n",
        "while a < 10:\n",
        "    a = a + 1\n",
        "    print (a)"
      ]
    },
    {
      "cell_type": "code",
      "execution_count": null,
      "metadata": {
        "id": "ND6ivaUbRNt4",
        "outputId": "908d406a-7e31-4371-9aa4-cfa019c43449"
      },
      "outputs": [
        {
          "name": "stdout",
          "output_type": "stream",
          "text": [
            "1\n",
            "2\n"
          ]
        }
      ],
      "source": [
        "a = 0\n",
        "\n",
        "while a < 10:\n",
        "    a = a + 1\n",
        "    if a == 3:\n",
        "        break\n",
        "    print (a)"
      ]
    },
    {
      "cell_type": "code",
      "execution_count": null,
      "metadata": {
        "id": "er9NTNl9RNt4",
        "outputId": "27ff4887-cbc7-438b-c03d-120b63745a93"
      },
      "outputs": [
        {
          "name": "stdout",
          "output_type": "stream",
          "text": [
            "1\n",
            "2\n",
            "4\n",
            "5\n",
            "6\n",
            "7\n",
            "8\n",
            "9\n",
            "10\n"
          ]
        }
      ],
      "source": [
        "a = 0\n",
        "\n",
        "while a < 10:\n",
        "    a = a + 1\n",
        "    if a == 3:\n",
        "        continue\n",
        "    print (a)"
      ]
    },
    {
      "cell_type": "markdown",
      "metadata": {
        "id": "dit4sFB2RNt4"
      },
      "source": [
        "EJERCICIO 1:\n",
        "\n",
        "ESCRIBIR UN PEQUEÑO PROGRAMA QUE IMPRIMA LAS TABLAS DE MULTIPLICAR DEL TRES AL SIETE"
      ]
    },
    {
      "cell_type": "code",
      "execution_count": null,
      "metadata": {
        "id": "lTGYCZbKRNt4",
        "outputId": "c4586c8c-0bb3-4b0b-f3b1-6ad81d99f526"
      },
      "outputs": [
        {
          "name": "stdout",
          "output_type": "stream",
          "text": [
            "Tabla del 3\n",
            "3 X 1 = 3\n",
            "3 X 2 = 6\n",
            "3 X 3 = 9\n",
            "3 X 4 = 12\n",
            "3 X 5 = 15\n",
            "3 X 6 = 18\n",
            "3 X 7 = 21\n",
            "3 X 8 = 24\n",
            "3 X 9 = 27\n",
            "3 X 10 = 30\n",
            "Tabla del 4\n",
            "4 X 1 = 4\n",
            "4 X 2 = 8\n",
            "4 X 3 = 12\n",
            "4 X 4 = 16\n",
            "4 X 5 = 20\n",
            "4 X 6 = 24\n",
            "4 X 7 = 28\n",
            "4 X 8 = 32\n",
            "4 X 9 = 36\n",
            "4 X 10 = 40\n",
            "Tabla del 5\n",
            "5 X 1 = 5\n",
            "5 X 2 = 10\n",
            "5 X 3 = 15\n",
            "5 X 4 = 20\n",
            "5 X 5 = 25\n",
            "5 X 6 = 30\n",
            "5 X 7 = 35\n",
            "5 X 8 = 40\n",
            "5 X 9 = 45\n",
            "5 X 10 = 50\n",
            "Tabla del 6\n",
            "6 X 1 = 6\n",
            "6 X 2 = 12\n",
            "6 X 3 = 18\n",
            "6 X 4 = 24\n",
            "6 X 5 = 30\n",
            "6 X 6 = 36\n",
            "6 X 7 = 42\n",
            "6 X 8 = 48\n",
            "6 X 9 = 54\n",
            "6 X 10 = 60\n",
            "Tabla del 7\n",
            "7 X 1 = 7\n",
            "7 X 2 = 14\n",
            "7 X 3 = 21\n",
            "7 X 4 = 28\n",
            "7 X 5 = 35\n",
            "7 X 6 = 42\n",
            "7 X 7 = 49\n",
            "7 X 8 = 56\n",
            "7 X 9 = 63\n",
            "7 X 10 = 70\n",
            "###################\n"
          ]
        }
      ],
      "source": [
        "primero = 3\n",
        "\n",
        "while primero <= 7:\n",
        "    print (\"Tabla del \" + str (primero))\n",
        "    segundo = 1\n",
        "    while segundo <= 10:\n",
        "        print (str(primero) + \" X \" + str(segundo) + \" = \" + str(primero * segundo))\n",
        "        segundo += 1\n",
        "    primero += 1\n",
        "print (\"###################\")"
      ]
    },
    {
      "cell_type": "code",
      "execution_count": null,
      "metadata": {
        "id": "eDRMVWQIRNt4",
        "outputId": "906f5bf5-d06a-485c-d4d2-f08e8dfb268d"
      },
      "outputs": [
        {
          "name": "stdout",
          "output_type": "stream",
          "text": [
            "La lavadora se ha comida mi calcetín\n",
            "La lavadora se ha comida mi pantalón\n",
            "La lavadora se ha comida mi camisa\n",
            "La lavadora se ha comida mi camiseta\n",
            "La lavadora se ha comida mi otro calcetín\n",
            "La lavadora se ha comida mi gorra\n"
          ]
        }
      ],
      "source": [
        "# La instrucción FOR se utiliza en Python para recorrer listas, diccionarios y en general iteradores.\n",
        "\n",
        "lista = [\"calcetín\", \"pantalón\", \"camisa\", \"camiseta\", \"otro calcetín\", \"gorra\"]\n",
        "\n",
        "for prenda in lista:\n",
        "    print (\"La lavadora se ha comida mi \" + prenda)"
      ]
    },
    {
      "cell_type": "code",
      "execution_count": null,
      "metadata": {
        "id": "CgFLKYFCRNt4",
        "outputId": "16482a98-cf06-4e11-e4d9-02e5beaa505a"
      },
      "outputs": [
        {
          "name": "stdout",
          "output_type": "stream",
          "text": [
            "H\n",
            "o\n",
            "l\n",
            "a\n",
            " \n",
            "M\n",
            "u\n",
            "n\n",
            "d\n",
            "o\n"
          ]
        }
      ],
      "source": [
        "saludo = \"Hola Mundo\"\n",
        "\n",
        "for letra in saludo:\n",
        "    print (letra)"
      ]
    },
    {
      "cell_type": "markdown",
      "metadata": {
        "id": "nAbxoscyRNt4"
      },
      "source": [
        "EJERCICIO 2:\n",
        "\n",
        "UTILIZAR FOR PARA RECORRER EL SIGUIENTE DICCIONARIO:\n",
        "\n",
        "datos = {“Nombre”: “José”, “Apellido”: “González”, “Altura”: “1,70”} \n"
      ]
    },
    {
      "cell_type": "code",
      "execution_count": null,
      "metadata": {
        "id": "qeOK_7YXRNt4",
        "outputId": "c4ef1fde-66d8-4491-93e6-19514394f19d"
      },
      "outputs": [
        {
          "name": "stdout",
          "output_type": "stream",
          "text": [
            "Nombre: José\n",
            "Apellido: González\n",
            "Altura: 1,70\n"
          ]
        }
      ],
      "source": [
        "datos = {\"Nombre\": \"José\", \"Apellido\": \"González\", \"Altura\": \"1,70\"} \n",
        "\n",
        "for concepto in datos:\n",
        "    print (concepto + \": \" + datos[concepto])"
      ]
    },
    {
      "cell_type": "code",
      "execution_count": null,
      "metadata": {
        "id": "iyiqDI1eRNt4",
        "outputId": "1062a2eb-d3ff-4db4-a8b6-43f81059570b"
      },
      "outputs": [
        {
          "name": "stdout",
          "output_type": "stream",
          "text": [
            "Nombre: José\n",
            "Apellido: González\n",
            "Altura: 1,70\n"
          ]
        }
      ],
      "source": [
        "datos = {\"Nombre\": \"José\", \"Apellido\": \"González\", \"Altura\": \"1,70\"} \n",
        "\n",
        "for concepto, valor in datos.items() :\n",
        "    print (concepto + \": \" + valor)"
      ]
    },
    {
      "cell_type": "markdown",
      "metadata": {
        "id": "Xc8FSH6eRNt5"
      },
      "source": [
        "EJERCICIO 3:\n",
        "\n",
        "ESCRIBIR UN PEQUEÑO PROGRAMA QUE DIVIDA UN NÚMERO POR CERO. VER QUÉ PASA…\n"
      ]
    },
    {
      "cell_type": "code",
      "execution_count": null,
      "metadata": {
        "id": "KBVFvDfkRNt5",
        "outputId": "2f97b974-d7d3-43d9-efa7-747e550afdb3"
      },
      "outputs": [
        {
          "ename": "ZeroDivisionError",
          "evalue": "division by zero",
          "output_type": "error",
          "traceback": [
            "\u001b[1;31m---------------------------------------------------------------------------\u001b[0m",
            "\u001b[1;31mZeroDivisionError\u001b[0m                         Traceback (most recent call last)",
            "\u001b[1;32m<ipython-input-79-3ccbadc9b620>\u001b[0m in \u001b[0;36m<module>\u001b[1;34m\u001b[0m\n\u001b[0;32m      2\u001b[0m \u001b[0mdivisor\u001b[0m \u001b[1;33m=\u001b[0m \u001b[1;36m0\u001b[0m\u001b[1;33m\u001b[0m\u001b[1;33m\u001b[0m\u001b[0m\n\u001b[0;32m      3\u001b[0m \u001b[1;33m\u001b[0m\u001b[0m\n\u001b[1;32m----> 4\u001b[1;33m \u001b[0mresultado\u001b[0m \u001b[1;33m=\u001b[0m \u001b[0mdividendo\u001b[0m\u001b[1;33m/\u001b[0m\u001b[0mdivisor\u001b[0m\u001b[1;33m\u001b[0m\u001b[1;33m\u001b[0m\u001b[0m\n\u001b[0m\u001b[0;32m      5\u001b[0m \u001b[0mprint\u001b[0m \u001b[1;33m(\u001b[0m\u001b[1;34m\"La división resulta: \"\u001b[0m\u001b[1;33m,\u001b[0m \u001b[0mresultado\u001b[0m\u001b[1;33m)\u001b[0m\u001b[1;33m\u001b[0m\u001b[1;33m\u001b[0m\u001b[0m\n\u001b[0;32m      6\u001b[0m \u001b[0mprint\u001b[0m \u001b[1;33m(\u001b[0m\u001b[1;34m\"The End\"\u001b[0m\u001b[1;33m)\u001b[0m\u001b[1;33m\u001b[0m\u001b[1;33m\u001b[0m\u001b[0m\n",
            "\u001b[1;31mZeroDivisionError\u001b[0m: division by zero"
          ]
        }
      ],
      "source": [
        "dividendo = 1\n",
        "divisor = 0\n",
        "\n",
        "resultado = dividendo/divisor\n",
        "print (\"La división resulta: \", resultado)\n",
        "print (\"The End\")"
      ]
    },
    {
      "cell_type": "code",
      "execution_count": null,
      "metadata": {
        "id": "xub0Q-HHRNt5",
        "outputId": "ac93d93a-17d3-4117-8411-08d967dd9845"
      },
      "outputs": [
        {
          "name": "stdout",
          "output_type": "stream",
          "text": [
            "No se puede dividir por cero, animal.\n",
            "The End\n"
          ]
        }
      ],
      "source": [
        "# Los errores en tiempo de ejecución se manejan mediante la estructura TRY.\n",
        "\n",
        "dividendo = 1\n",
        "divisor = 0\n",
        "\n",
        "try:\n",
        "    resultado = dividendo/divisor\n",
        "    print (\"La división resulta: \", resultado)\n",
        "except:\n",
        "    if divisor == 0:\n",
        "        print (\"No se puede dividir por cero, animal.\")\n",
        "print (\"The End\")"
      ]
    },
    {
      "cell_type": "code",
      "execution_count": null,
      "metadata": {
        "id": "o2NCZJyhRNt5",
        "outputId": "af3b9464-64a5-4682-c323-c97d27c13a07"
      },
      "outputs": [
        {
          "name": "stdout",
          "output_type": "stream",
          "text": [
            "Eso no es un número, animal.\n",
            "The End\n"
          ]
        }
      ],
      "source": [
        "dividendo = \"A\"\n",
        "divisor = 2\n",
        "\n",
        "try:\n",
        "    resultado = dividendo/divisor\n",
        "    print (\"La división resulta: \", resultado)\n",
        "except ZeroDivisionError:\n",
        "    if divisor == 0:\n",
        "        print (\"No se puede dividir por cero, animal.\")\n",
        "except TypeError:\n",
        "        print (\"Eso no es un número, animal.\")\n",
        "print (\"The End\")"
      ]
    },
    {
      "cell_type": "markdown",
      "metadata": {
        "id": "W0sCReJbRNt5"
      },
      "source": [
        "# Funciones"
      ]
    },
    {
      "cell_type": "markdown",
      "metadata": {
        "id": "LltbMfylRNt5"
      },
      "source": [
        "Una función corresponde con una parte de código que puede ser llamada desde varios puntos de nuestro programa. \n"
      ]
    },
    {
      "cell_type": "code",
      "execution_count": null,
      "metadata": {
        "id": "6iDEsW9URNt5",
        "outputId": "13089362-8bb6-4eac-f214-647eb3c359dd"
      },
      "outputs": [
        {
          "name": "stdout",
          "output_type": "stream",
          "text": [
            "Hola Mundo, aquí estamos..\n"
          ]
        }
      ],
      "source": [
        "def saluda(cadena):\n",
        "    print (cadena)\n",
        "cadena = \"Hola Mundo, aquí estamos..\"\n",
        "saluda(cadena)"
      ]
    },
    {
      "cell_type": "code",
      "execution_count": null,
      "metadata": {
        "id": "-i4ZtD-5RNt5",
        "outputId": "ef242a73-8c53-45d2-d7b7-cb0085b171f9"
      },
      "outputs": [
        {
          "name": "stdout",
          "output_type": "stream",
          "text": [
            "3.141592\n"
          ]
        }
      ],
      "source": [
        "def dame_pi():\n",
        "    numero_pi = 3.141592\n",
        "    return numero_pi\n",
        "pi = dame_pi()\n",
        "print (pi)"
      ]
    },
    {
      "cell_type": "code",
      "execution_count": null,
      "metadata": {
        "id": "jTsBGlLERNt5",
        "outputId": "823bb420-3564-4c00-afbe-4cf7875bf5d6"
      },
      "outputs": [
        {
          "name": "stdout",
          "output_type": "stream",
          "text": [
            "3.141592\n"
          ]
        }
      ],
      "source": [
        "def dame_pi():\n",
        "    numero_pi = 3.141592\n",
        "    return numero_pi\n",
        "print (dame_pi())"
      ]
    },
    {
      "cell_type": "markdown",
      "metadata": {
        "id": "3M7VIhDnRNt5"
      },
      "source": [
        "EJERCICIO 4:\n",
        "\n",
        "ESCRIBIR UN PEQUEÑO PROGRAMA QUE DADO UN NÚMERO, DEVUELVA EL CUADRADO DE DICHO NÚMERO\n"
      ]
    },
    {
      "cell_type": "code",
      "execution_count": null,
      "metadata": {
        "id": "wQ29gaRMRNt5",
        "outputId": "7b5a2596-8351-4b0e-a807-f1476d257726"
      },
      "outputs": [
        {
          "name": "stdout",
          "output_type": "stream",
          "text": [
            "5\n",
            "25\n"
          ]
        }
      ],
      "source": [
        "# Lógicamente a las funciones se le deben pasar parámetros (variables). \n",
        "\n",
        "def cuadrado(numero):\n",
        "    cuadrado = numero * numero\n",
        "    return cuadrado\n",
        "\n",
        "valor = input()\n",
        "\n",
        "print (cuadrado(int(valor)))"
      ]
    },
    {
      "cell_type": "markdown",
      "metadata": {
        "id": "s9_V1hqLRNt6"
      },
      "source": [
        "EJERCICIO 5:\n",
        "    \n",
        "ESCRIBIR UN PEQUEÑO PROGRAMA QUE DADO UN NÚMERO (1 AL 10) DEVUELVA LA TABLA DE MULTIPLICAR DE DICHO NÚMERO\n"
      ]
    },
    {
      "cell_type": "code",
      "execution_count": null,
      "metadata": {
        "id": "7IXS_VYxRNt6",
        "outputId": "6a913c26-42e6-410a-a70a-6fc6bcbe4af9"
      },
      "outputs": [
        {
          "name": "stdout",
          "output_type": "stream",
          "text": [
            "5\n",
            "Tabla de multiplicar del 5\n",
            "Impresa automáticamente por Pedro\n",
            "5 X 0 = 0\n",
            "5 X 1 = 5\n",
            "5 X 2 = 10\n",
            "5 X 3 = 15\n",
            "5 X 4 = 20\n",
            "5 X 5 = 25\n",
            "5 X 6 = 30\n",
            "5 X 7 = 35\n",
            "5 X 8 = 40\n",
            "5 X 9 = 45\n",
            "5 X 10 = 50\n"
          ]
        }
      ],
      "source": [
        "def tabla_multiplicar (nombre, numero = 1):\n",
        "    print (\"Tabla de multiplicar del \" + str (numero))\n",
        "    print (\"Impresa automáticamente por \" + nombre)\n",
        "    \n",
        "    i = 0\n",
        "    while i < 11:\n",
        "        print (str(numero) + \" X \" + str(i) + \" = \" + str(numero * i))\n",
        "        i += 1\n",
        "\n",
        "num = input()\n",
        "tabla_multiplicar (\"Pedro\", int(num))"
      ]
    },
    {
      "cell_type": "code",
      "execution_count": null,
      "metadata": {
        "id": "VmeMRGIgRNt6",
        "outputId": "8c034bf4-98f6-43ca-86a0-951c2f3d3b33"
      },
      "outputs": [
        {
          "name": "stdout",
          "output_type": "stream",
          "text": [
            "Lista de Piezas\n",
            "tornillo\n",
            "tuerca\n",
            "otro tornillo\n",
            "cable\n",
            "termómetro\n"
          ]
        }
      ],
      "source": [
        "# A veces desconocemos el número de argumentos que va a recibir una función. \n",
        "# Los argumentos fijos, deben ir al principio.\n",
        "\n",
        "def imprime_lista (nombre_lista, *cosas):\n",
        "    print (\"Lista de \" + nombre_lista)\n",
        "    \n",
        "    for cosa in cosas:\n",
        "        print (cosa)\n",
        "\n",
        "imprime_lista (\"Piezas\", \"tornillo\", \"tuerca\", \"otro tornillo\", \"cable\", \"termómetro\")"
      ]
    },
    {
      "cell_type": "code",
      "execution_count": null,
      "metadata": {
        "id": "DqojAJGxRNt6",
        "outputId": "bd4dae5c-65ca-461c-9dce-647cead37277"
      },
      "outputs": [
        {
          "name": "stdout",
          "output_type": "stream",
          "text": [
            "Datos de Pablo\n",
            "edad: mucha\n",
            "estado: Uyyyy\n",
            "agradable: A veces\n"
          ]
        }
      ],
      "source": [
        "def imprime_datos (nombre, **datos):\n",
        "    print (\"Datos de \" + nombre)\n",
        "    for clave in datos:\n",
        "        print (clave + \": \" + datos[clave])\n",
        "\n",
        "imprime_datos (\"Pablo\", edad = \"mucha\", estado = \"Uyyyy\", agradable = \"A veces\")"
      ]
    },
    {
      "cell_type": "code",
      "execution_count": null,
      "metadata": {
        "id": "Ha_CEHdtRNt6",
        "outputId": "dd72af5e-080d-498a-fb6c-0196d30fbe71"
      },
      "outputs": [
        {
          "name": "stdout",
          "output_type": "stream",
          "text": [
            "dentro de la función\n",
            "fuera de la función\n"
          ]
        }
      ],
      "source": [
        "# El ámbito de una variable corresponde con la parte de código donde esta es accesible.\n",
        "\n",
        "variable = \"fuera de la función\"\n",
        "\n",
        "def una_funcion():\n",
        "    variable = \"dentro de la función\"\n",
        "    print (variable)\n",
        "\n",
        "una_funcion()\n",
        "\n",
        "print (variable)"
      ]
    },
    {
      "cell_type": "code",
      "execution_count": null,
      "metadata": {
        "id": "Cu-2Dq_CRNt6",
        "outputId": "9d559501-aa0d-4512-8021-44cc9514f2b6"
      },
      "outputs": [
        {
          "name": "stdout",
          "output_type": "stream",
          "text": [
            "fuera de la función\n",
            "fuera de la función\n"
          ]
        }
      ],
      "source": [
        "variable = \"fuera de la función\"\n",
        "\n",
        "def una_funcion():\n",
        "    # no asignamos valor a la variable\n",
        "    print (variable)\n",
        "\n",
        "una_funcion()\n",
        "\n",
        "print (variable)"
      ]
    },
    {
      "cell_type": "code",
      "execution_count": null,
      "metadata": {
        "id": "-Fbu-ZtHRNt6",
        "outputId": "fe532382-05fb-43b7-9c08-10b2e46b8230"
      },
      "outputs": [
        {
          "name": "stdout",
          "output_type": "stream",
          "text": [
            "dentro de la función\n",
            "dentro de la función\n"
          ]
        }
      ],
      "source": [
        "# Sin embargo, se pueden declarar variables globales dentro de una función\n",
        "\n",
        "variable = \"fuera de la función\"\n",
        "\n",
        "def una_funcion():\n",
        "    global variable \n",
        "    variable = \"dentro de la función\"\n",
        "    print (variable)\n",
        "\n",
        "una_funcion()\n",
        "\n",
        "print (variable)\n"
      ]
    },
    {
      "cell_type": "markdown",
      "metadata": {
        "id": "XnPHWP6qRNt6"
      },
      "source": [
        "EJERCICIO 6:\n",
        "\n",
        "ESCRIBIR UN PEQUEÑO PROGRAMA QUE RECIBA COMO PARÁMETROS DOS NÚMEROS Y DEVUELVA CUAL ES EL MAYOR\n"
      ]
    },
    {
      "cell_type": "code",
      "execution_count": null,
      "metadata": {
        "id": "Z-jAALGLRNt6",
        "outputId": "6b61ec3e-f221-48b5-84c2-b6bc47d38f60"
      },
      "outputs": [
        {
          "name": "stdout",
          "output_type": "stream",
          "text": [
            "El número mayor es 100\n"
          ]
        },
        {
          "data": {
            "text/plain": [
              "1"
            ]
          },
          "execution_count": 95,
          "metadata": {},
          "output_type": "execute_result"
        }
      ],
      "source": [
        "\"\"\" Esta función se utiliza para comparar dos \n",
        "números indicando cuál es el mayor de ambos\"\"\"\n",
        "\n",
        "def compara_numeros (n1, n2):\n",
        "    if (n1 > n2):\n",
        "        print (\"El número mayor es \" + str(n1))\n",
        "        return 1\n",
        "    elif (n1 < n2):\n",
        "        print (\"El número mayor es \" + str(n2))\n",
        "        return 2\n",
        "    else:\n",
        "        print (\"Ambos números son iguales\" + str(n1))\n",
        "        return 0\n",
        "compara_numeros (100, 7) "
      ]
    },
    {
      "cell_type": "code",
      "execution_count": null,
      "metadata": {
        "id": "QJw5uYLPRNt7",
        "outputId": "5c1b90ee-af30-4d94-c4d2-e3ed096345b4"
      },
      "outputs": [
        {
          "data": {
            "text/plain": [
              "[1, 4, 9, 16, 25]"
            ]
          },
          "execution_count": 96,
          "metadata": {},
          "output_type": "execute_result"
        }
      ],
      "source": [
        "def squares(numbers):\n",
        "  return [number*number for number in numbers]\n",
        "\n",
        "squares([1,2,3,4,5])"
      ]
    },
    {
      "cell_type": "markdown",
      "metadata": {
        "id": "qQlOKv9TRNt7"
      },
      "source": [
        "Esta forma de hacerlo tiene un problema, todos los resultados se generan de una vez. Si la lista numbers fuese muy grande, el tiempo de ejecución podría ser considerable."
      ]
    },
    {
      "cell_type": "markdown",
      "metadata": {
        "id": "tqaylgj0RNt7"
      },
      "source": [
        "yield es una orden muy similar a un return, con una gran diferencia, yield pausará la ejecución de tu función y guardará el estado de la misma hasta que decidas usarla de nuevo.\n",
        "\n",
        "¿Y si pudiéramos calcular los cuadrados uno a uno? Si no necesitamos todos los resultados, esto podría ser muy útil. Ahora yield va a ser muy útil. \n"
      ]
    },
    {
      "cell_type": "code",
      "execution_count": null,
      "metadata": {
        "id": "OME0WdUVRNt7",
        "outputId": "10959cc5-98d9-4604-fdea-0e219e6adb79"
      },
      "outputs": [
        {
          "data": {
            "text/plain": [
              "<generator object squares at 0x0000019DFE4BE660>"
            ]
          },
          "execution_count": 97,
          "metadata": {},
          "output_type": "execute_result"
        }
      ],
      "source": [
        "def squares(numbers):\n",
        "  for number in numbers:\n",
        "    yield number*number\n",
        "\n",
        "squares([1,2,3,4,5])"
      ]
    },
    {
      "cell_type": "code",
      "execution_count": null,
      "metadata": {
        "id": "RXQGrV6NRNt7",
        "outputId": "140acbe7-f394-4472-9b40-60af1afb15c0"
      },
      "outputs": [
        {
          "name": "stdout",
          "output_type": "stream",
          "text": [
            "1\n",
            "4\n",
            "9\n"
          ]
        }
      ],
      "source": [
        "# Ahora podemos iterar sobre el generador\n",
        "for square in squares([1,2,3]):\n",
        "   print(square)"
      ]
    },
    {
      "cell_type": "code",
      "execution_count": null,
      "metadata": {
        "id": "GizAEgo7RNt7",
        "outputId": "0dcc1f6a-ba41-45de-edf2-06f7c1f4d513"
      },
      "outputs": [
        {
          "name": "stdout",
          "output_type": "stream",
          "text": [
            "1\n",
            "2\n",
            "3\n",
            "4\n",
            "5\n",
            "6\n",
            "7\n",
            "8\n",
            "9\n",
            "10\n"
          ]
        }
      ],
      "source": [
        "\"\"\" En este caso se genera la lista, después se hace un return \n",
        "y por último un bucle for para su impresión, con \n",
        "el consiguiente tiempo de proceso y almacenamiento\"\"\"\n",
        "\n",
        "def genera_lista(num):\n",
        "    lista = []\n",
        "    i = 1\n",
        "    while i <= num:\n",
        "        lista.append (i)\n",
        "        i += 1\n",
        "    return lista\n",
        "\n",
        "for i in genera_lista(10):\n",
        "    print (i)"
      ]
    },
    {
      "cell_type": "code",
      "execution_count": null,
      "metadata": {
        "id": "XcJGEAtQRNt8",
        "outputId": "7a5f6429-90d4-4c0a-90a6-cf7e60e6a1c1"
      },
      "outputs": [
        {
          "name": "stdout",
          "output_type": "stream",
          "text": [
            "1\n",
            "2\n",
            "3\n",
            "4\n",
            "5\n",
            "6\n",
            "7\n",
            "8\n",
            "9\n",
            "10\n"
          ]
        }
      ],
      "source": [
        "\"\"\" Si utilizamos un generador nos ayudará a devolver un valor cada vez\"\"\"\n",
        "\n",
        "def genera_lista(num):\n",
        "    lista = []\n",
        "    i = 1\n",
        "    while i <= num:\n",
        "        yield i\n",
        "        i += 1\n",
        "lista = genera_lista (10)\n",
        "\n",
        "for i in genera_lista(10):\n",
        "    print (i)"
      ]
    },
    {
      "cell_type": "code",
      "execution_count": null,
      "metadata": {
        "id": "pHITlToDRNt8",
        "outputId": "0eb3c970-852b-415d-9243-4b45fda67ac4"
      },
      "outputs": [
        {
          "name": "stdout",
          "output_type": "stream",
          "text": [
            "Instanciando contador\n",
            "Contador instanciado\n",
            "=Dentro de contador - empezando\n",
            "=Dentro de contador - viene yield con n=0\n",
            "valor leido del iterador=0\n",
            "=Dentro de contador - retomando después de yield\n",
            "=Dentro de contador - viene yield con n=1\n",
            "valor leido del iterador=1\n",
            "=Dentro de contador - retomando después de yield\n",
            "=Dentro de contador - viene yield con n=2\n",
            "valor leido del iterador=2\n",
            "=Dentro de contador - retomando después de yield\n",
            "=Dentro de contador - terminando\n",
            "Listo\n"
          ]
        }
      ],
      "source": [
        "def contador(max):\n",
        "    print(\"=Dentro de contador - empezando\")\n",
        "    n=0\n",
        "    while n < max:\n",
        "        print(f\"=Dentro de contador - viene yield con n={n}\")\n",
        "        yield n\n",
        "        print(\"=Dentro de contador - retomando después de yield\")\n",
        "        n=n+1\n",
        "    print(\"=Dentro de contador - terminando\")\n",
        "\n",
        "print(\"Instanciando contador\") \n",
        "mycont = contador(3)\n",
        "print(\"Contador instanciado\") \n",
        "\n",
        "for i in mycont:\n",
        "    print(f\"valor leido del iterador={i}\") \n",
        "print(\"Listo\") "
      ]
    },
    {
      "cell_type": "code",
      "execution_count": null,
      "metadata": {
        "scrolled": true,
        "id": "N1vg9bseRNt8",
        "outputId": "70561bce-e02b-4c58-d64a-202263f579dc"
      },
      "outputs": [
        {
          "name": "stdout",
          "output_type": "stream",
          "text": [
            "Hola Pedro\n",
            "Que tengas un buen día\n",
            "Buenos días, guapa\n",
            "Que tengas un buen día\n"
          ]
        }
      ],
      "source": [
        "# Primero se ejecuta la función saludo (\"Nombre\"), la salida es \"Hola\" + nombre\n",
        "# La función de entrada funcion_entrada de decorador es saludo(nombre)\n",
        "# El param de la funcion_salida es nombre\n",
        "# Luego si el nombre es Pablo, nos devuelve la funcion_salida \"Buenos días, guapo\"\n",
        "\n",
        "def decorador(funcion_entrada):\n",
        "    def funcion_salida (param):\n",
        "        if param == \"Lidia\":\n",
        "            print (\"Buenos días, guapa\")\n",
        "        elif param == \"Pablo\":\n",
        "            print (\"Buenos días, guapo\")\n",
        "        else:\n",
        "            funcion_entrada(param)\n",
        "        print (\"Que tengas un buen día\")\n",
        "    return funcion_salida \n",
        "\n",
        "@decorador\n",
        "def saludo(nombre):\n",
        "    print (\"Hola \" + nombre)\n",
        "    \n",
        "saludo (\"Pedro\")\n",
        "saludo (\"Lidia\")"
      ]
    },
    {
      "cell_type": "code",
      "execution_count": null,
      "metadata": {
        "id": "A6Kc9RrvRNt8",
        "outputId": "d6ab4e46-340c-43ad-f0ce-723f83f8ba5f"
      },
      "outputs": [
        {
          "name": "stdout",
          "output_type": "stream",
          "text": [
            "Se va a llamar\n",
            "5 8\n",
            "Entra en funcion suma\n",
            "Se ha llamado\n"
          ]
        },
        {
          "data": {
            "text/plain": [
              "13"
            ]
          },
          "execution_count": 104,
          "metadata": {},
          "output_type": "execute_result"
        }
      ],
      "source": [
        "# Tenemos una función suma() que vamos a decorar usando mi_decorador(). \n",
        "# Para ello, antes de la declaración de la función suma, hacemos uso de @mi_decorador.\n",
        "\n",
        "def mi_decorador(funcion):\n",
        "    def nueva_funcion(a, b):\n",
        "        print(\"Se va a llamar\")\n",
        "        print (a, b)\n",
        "        c = funcion(a, b)\n",
        "        print(\"Se ha llamado\")\n",
        "        return c\n",
        "    return nueva_funcion\n",
        "\n",
        "@mi_decorador\n",
        "def suma(a, b):\n",
        "    print(\"Entra en funcion suma\")\n",
        "    return a + b\n",
        "\n",
        "suma(5,8)\n",
        "\n",
        "# Se va a llamar\n",
        "# Entra en funcion suma\n",
        "# Se ha llamado"
      ]
    },
    {
      "cell_type": "code",
      "execution_count": null,
      "metadata": {
        "id": "f3GDQs9kRNt8"
      },
      "outputs": [],
      "source": []
    }
  ],
  "metadata": {
    "kernelspec": {
      "display_name": "Python 3 (ipykernel)",
      "language": "python",
      "name": "python3"
    },
    "language_info": {
      "codemirror_mode": {
        "name": "ipython",
        "version": 3
      },
      "file_extension": ".py",
      "mimetype": "text/x-python",
      "name": "python",
      "nbconvert_exporter": "python",
      "pygments_lexer": "ipython3",
      "version": "3.9.7"
    },
    "colab": {
      "provenance": [],
      "include_colab_link": true
    }
  },
  "nbformat": 4,
  "nbformat_minor": 0
}